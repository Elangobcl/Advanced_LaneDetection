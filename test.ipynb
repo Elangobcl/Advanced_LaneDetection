{
 "cells": [
  {
   "cell_type": "code",
   "execution_count": 1,
   "metadata": {},
   "outputs": [],
   "source": [
    "import cv2\n",
    "import numpy as np\n",
    "import glob\n",
    "import pickle\n",
    "from tracker import tracker\n",
    "import matplotlib.pyplot as plt\n",
    "import matplotlib.image as mpimg\n",
    "import matplotlib.gridspec as gridspec"
   ]
  },
  {
   "cell_type": "code",
   "execution_count": 2,
   "metadata": {},
   "outputs": [],
   "source": [
    "calibFile = 'calibration_pickle.p'\n",
    "camerCalib = pickle.load(open(calibFile,'rb'))\n",
    "\n",
    "mtx = camerCalib[\"mtx\"]\n",
    "dist = camerCalib[\"dist\"]"
   ]
  },
  {
   "cell_type": "code",
   "execution_count": 3,
   "metadata": {},
   "outputs": [],
   "source": [
    "def abs_sobel_thresh(img, orient='x', thresh_min=25, thresh_max=255):\n",
    "    # Convert to grayscale\n",
    "    # gray = cv2.cvtColor(img, cv2.COLOR_RGB2GRAY)\n",
    "    hls = cv2.cvtColor(img, cv2.COLOR_RGB2HLS).astype(np.float)\n",
    "    l_channel = hls[:,:,1]\n",
    "    s_channel = hls[:,:,2]\n",
    "    # Apply x or y gradient with the OpenCV Sobel() function\n",
    "    # and take the absolute value\n",
    "    if orient == 'x':\n",
    "        abs_sobel = np.absolute(cv2.Sobel(l_channel, cv2.CV_64F, 1, 0))\n",
    "    if orient == 'y':\n",
    "        abs_sobel = np.absolute(cv2.Sobel(l_channel, cv2.CV_64F, 0, 1))\n",
    "    # Rescale back to 8 bit integer\n",
    "    scaled_sobel = np.uint8(255*abs_sobel/np.max(abs_sobel))\n",
    "    # Create a copy and apply the threshold\n",
    "    binary_output = np.zeros_like(scaled_sobel)\n",
    "    # Here I'm using inclusive (>=, <=) thresholds, but exclusive is ok too\n",
    "    binary_output[(scaled_sobel >= thresh_min) & (scaled_sobel <= thresh_max)] = 1\n",
    "\n",
    "    # Return the result\n",
    "    return binary_output\n",
    "\n",
    "# Define a function to return the magnitude of the gradient for a given sobel kernel size and threshold values\n",
    "def mag_thresh(img, sobel_kernel=3, mag_thresh=(0, 255)):\n",
    "    # Convert to grayscale\n",
    "    gray = cv2.cvtColor(img, cv2.COLOR_RGB2GRAY)\n",
    "    # Take both Sobel x and y gradients\n",
    "    sobelx = cv2.Sobel(gray, cv2.CV_64F, 1, 0, ksize=sobel_kernel)\n",
    "    sobely = cv2.Sobel(gray, cv2.CV_64F, 0, 1, ksize=sobel_kernel)\n",
    "    # Calculate the gradient magnitude\n",
    "    gradmag = np.sqrt(sobelx**2 + sobely**2)\n",
    "    # Rescale to 8 bit\n",
    "    scale_factor = np.max(gradmag)/255 \n",
    "    gradmag = (gradmag/scale_factor).astype(np.uint8) \n",
    "    # Create a binary image of ones where threshold is met, zeros otherwise\n",
    "    binary_output = np.zeros_like(gradmag)\n",
    "    binary_output[(gradmag >= mag_thresh[0]) & (gradmag <= mag_thresh[1])] = 1\n",
    "\n",
    "    # Return the binary image\n",
    "    return binary_output\n",
    "\n",
    "# Define a function to threshold an image for a given range and Sobel kernel\n",
    "def dir_threshold(img, sobel_kernel=3, thresh=(0, np.pi/2)):\n",
    "    # Grayscale\n",
    "    gray = cv2.cvtColor(img, cv2.COLOR_RGB2GRAY)\n",
    "    # Calculate the x and y gradients\n",
    "    sobelx = cv2.Sobel(gray, cv2.CV_64F, 1, 0, ksize=sobel_kernel)\n",
    "    sobely = cv2.Sobel(gray, cv2.CV_64F, 0, 1, ksize=sobel_kernel)\n",
    "    # Take the absolute value of the gradient direction, \n",
    "    # apply a threshold, and create a binary image result\n",
    "    absgraddir = np.arctan2(np.absolute(sobely), np.absolute(sobelx))\n",
    "    binary_output =  np.zeros_like(absgraddir)\n",
    "    binary_output[(absgraddir >= thresh[0]) & (absgraddir <= thresh[1])] = 1\n",
    "\n",
    "    # Return the binary image\n",
    "    return binary_output\n",
    "\n",
    "def color_threshold(image, sthresh=(0,255), vthresh=(0,255)):\n",
    "    hls = cv2.cvtColor(image, cv2.COLOR_RGB2HLS)\n",
    "    s_channel = hls[:,:,2]\n",
    "    s_binary = np.zeros_like(s_channel)\n",
    "    s_binary[(s_channel > sthresh[0]) & (s_channel <= sthresh[1])] = 1\n",
    "\n",
    "    hsv = cv2.cvtColor(image, cv2.COLOR_RGB2HSV)\n",
    "    v_channel = hsv[:,:,2]\n",
    "    v_binary = np.zeros_like(v_channel)\n",
    "    v_binary[(v_channel > vthresh[0]) & (v_channel <= vthresh[1])] = 1\n",
    "\n",
    "    output = np.zeros_like(s_channel)\n",
    "    output[(s_binary == 1) & (v_binary) == 1] = 1\n",
    "\n",
    "    # Return the combined s_channel & v_channel binary image\n",
    "    return output\n",
    "\n",
    "def s_channel_threshold(image, sthresh=(0,255)):\n",
    "    hls = cv2.cvtColor(image, cv2.COLOR_RGB2HLS)\n",
    "    s_channel = hls[:, :, 2]  # use S channel\n",
    "\n",
    "    # create a copy and apply the threshold\n",
    "    binary_output = np.zeros_like(s_channel)\n",
    "    binary_output[(s_channel >= sthresh[0]) & (s_channel <= sthresh[1])] = 1\n",
    "    return binary_output\n",
    "\n",
    "def window_mask(width, height, img_ref, center, level):\n",
    "    output = np.zeros_like(img_ref)\n",
    "    output[int(img_ref.shape[0]-(level+1)*height):int(img_ref.shape[0]-level*height), \n",
    "           max(0,int(center-width)):min(int(center+width),img_ref.shape[1])] = 1\n",
    "    print (\"Level {}, mask Slice {}: \".format(level, (int(img_ref.shape[0]-(level+1.5)*height), int(img_ref.shape[0]-level*height), \n",
    "           max(0,int(center-width)), min(int(center+width),img_ref.shape[1]))))\n",
    "    return output\n",
    "\n",
    "import numba as nb # for fast looping through image array\n",
    "@nb.njit()\n",
    "def remove_nonLaneLine(T, image_data):\n",
    "    # grab the image dimensions\n",
    "    maskImg = np.copy(image_data)\n",
    "    for y in range(0,image_data.shape[0]):\n",
    "        for x in range(0,image_data.shape[1]):\n",
    "            # threshold the pixel\n",
    "            if maskImg[y, x] <= T:\n",
    "                maskImg[y, x] = 255 \n",
    "            else:\n",
    "               maskImg[y, x] = 0  \n",
    "    return maskImg"
   ]
  },
  {
   "cell_type": "code",
   "execution_count": 23,
   "metadata": {},
   "outputs": [
    {
     "data": {
      "text/plain": [
       "array([[-22.5, 705.5],\n",
       "       [-22.5, 702.5],\n",
       "       [-22.5, 699.5],\n",
       "       [-22.5, 701.5],\n",
       "       [-22.5, 702.5]])"
      ]
     },
     "execution_count": 23,
     "metadata": {},
     "output_type": "execute_result"
    }
   ],
   "source": [
    "fname = './test_img/error_2.jpg'\n",
    "img = cv2.imread(fname)\n",
    "#undistort the image\n",
    "img = cv2.undistort(img,mtx,dist,None,mtx)\n",
    "\n",
    "#pass image thru the pipeline\n",
    "preprocessImage = np.zeros_like(img[:,:,0])\n",
    "gradx = abs_sobel_thresh(img, orient='x', thresh_min=12, thresh_max=255)\n",
    "grady = abs_sobel_thresh(img, orient='y', thresh_min=25, thresh_max=255)\n",
    "gray_img = cv2.cvtColor(img,cv2.COLOR_BGR2GRAY)\n",
    "imgInv = cv2.bitwise_not(gray_img) #invert the image\n",
    "c_binary = remove_nonLaneLine(70, imgInv) #mask non-lane center line by thresholding\n",
    "preprocessImage[((gradx == 1) & (grady ==1) & (c_binary >= 1))] = 255\n",
    "\n",
    "img_size = (img.shape[1],img.shape[0])\n",
    "\n",
    "bot_width = .76 # percentage of bottom trapezoidal height\n",
    "mid_width = .08 # percentage of mid trapezoidal height\n",
    "height_pct = .495 # percentage of trapezoidal height\n",
    "bottom_trim= .935 # percentage from top to bottom avoiding the hood of the car\n",
    "\n",
    "src = np.float32([[img.shape[1]*(0.528-mid_width/2), img.shape[0]*height_pct],[img.shape[1]*(0.535+mid_width/2),img.shape[0]*height_pct],\n",
    "                  [img.shape[1]*(0.475+bot_width/2), img.shape[0]*bottom_trim],[img.shape[1]*(0.345-bot_width/2), img.shape[0]*bottom_trim]])\n",
    "offset = img_size[0]*0.25\n",
    "dst = np.float32([[offset,0],[img_size[0]-offset,0],[img_size[0]-offset,img_size[1]],[offset,img_size[1]]])\n",
    "\n",
    "M = cv2.getPerspectiveTransform(src,dst)\n",
    "Minv = cv2.getPerspectiveTransform(dst,src)\n",
    "warped = cv2.warpPerspective(preprocessImage, M, img_size, flags=cv2.INTER_LINEAR)\n",
    "\n",
    "window_width = 45\n",
    "window_height = 95\n",
    "\n",
    "#set up the overall class to do the lane line tracking\n",
    "curve_centers = tracker(Mywindow_width=window_width, Mywindow_height=window_height, Mymargin = 5, \n",
    "                        My_ym = 10/720, My_xm = 4/384, Mysmooth_factor=10)\n",
    "\n",
    "window_centroids = curve_centers.find_window_centroids(warped)\n",
    "window_centroids"
   ]
  },
  {
   "cell_type": "code",
   "execution_count": 5,
   "metadata": {},
   "outputs": [
    {
     "data": {
      "text/plain": [
       "6"
      ]
     },
     "execution_count": 5,
     "metadata": {},
     "output_type": "execute_result"
    }
   ],
   "source": [
    "len(window_centroids)"
   ]
  },
  {
   "cell_type": "code",
   "execution_count": 6,
   "metadata": {},
   "outputs": [
    {
     "data": {
      "text/plain": [
       "111.5"
      ]
     },
     "execution_count": 6,
     "metadata": {},
     "output_type": "execute_result"
    }
   ],
   "source": [
    "window_centroids[1][0]"
   ]
  },
  {
   "cell_type": "code",
   "execution_count": 24,
   "metadata": {},
   "outputs": [
    {
     "name": "stdout",
     "output_type": "stream",
     "text": [
      "Level 0, mask Slice (397, 540, 0, 22): \n",
      "Level 0, mask Slice (397, 540, 660, 750): \n",
      "Level 1, mask Slice (302, 445, 0, 22): \n",
      "Level 1, mask Slice (302, 445, 657, 747): \n",
      "Level 2, mask Slice (207, 350, 0, 22): \n",
      "Level 2, mask Slice (207, 350, 654, 744): \n",
      "Level 3, mask Slice (112, 255, 0, 22): \n",
      "Level 3, mask Slice (112, 255, 656, 746): \n",
      "Level 4, mask Slice (17, 160, 0, 22): \n",
      "Level 4, mask Slice (17, 160, 657, 747): \n"
     ]
    }
   ],
   "source": [
    "l_points = np.zeros_like(warped)\n",
    "r_points = np.zeros_like(warped)\n",
    "\n",
    "# points used to find the right & left lanes\n",
    "rightx = []\n",
    "leftx = []\n",
    "\n",
    "# Go through each level and draw the windows \n",
    "for level in range(0,len(window_centroids)):\n",
    "    # Window_mask is a function to draw window areas\n",
    "    # Add center value found in frame to the list of lane points per left, right\n",
    "    leftx.append(window_centroids[level][0])\n",
    "    rightx.append(window_centroids[level][1])\n",
    "\n",
    "    l_mask = window_mask(window_width,window_height,warped,window_centroids[level][0],level)\n",
    "    r_mask = window_mask(window_width,window_height,warped,window_centroids[level][1],level)\n",
    "    \n",
    "    l_points[(l_points == 255) | ((l_mask == 1) ) ] = 255\n",
    "    r_points[(r_points == 255) | ((r_mask == 1) ) ] = 255"
   ]
  },
  {
   "cell_type": "code",
   "execution_count": 8,
   "metadata": {},
   "outputs": [
    {
     "data": {
      "text/plain": [
       "array([[0, 0, 0, ..., 0, 0, 0],\n",
       "       [0, 0, 0, ..., 0, 0, 0],\n",
       "       [0, 0, 0, ..., 0, 0, 0],\n",
       "       ...,\n",
       "       [0, 0, 0, ..., 0, 0, 0],\n",
       "       [0, 0, 0, ..., 0, 0, 0],\n",
       "       [0, 0, 0, ..., 0, 0, 0]], dtype=uint8)"
      ]
     },
     "execution_count": 8,
     "metadata": {},
     "output_type": "execute_result"
    }
   ],
   "source": [
    "l_mask"
   ]
  },
  {
   "cell_type": "code",
   "execution_count": 9,
   "metadata": {},
   "outputs": [
    {
     "data": {
      "text/plain": [
       "array([[0, 0, 0, ..., 0, 0, 0],\n",
       "       [0, 0, 0, ..., 0, 0, 0],\n",
       "       [0, 0, 0, ..., 0, 0, 0],\n",
       "       ...,\n",
       "       [0, 0, 0, ..., 0, 0, 0],\n",
       "       [0, 0, 0, ..., 0, 0, 0],\n",
       "       [0, 0, 0, ..., 0, 0, 0]], dtype=uint8)"
      ]
     },
     "execution_count": 9,
     "metadata": {},
     "output_type": "execute_result"
    }
   ],
   "source": [
    "r_mask"
   ]
  },
  {
   "cell_type": "code",
   "execution_count": 10,
   "metadata": {},
   "outputs": [
    {
     "data": {
      "text/plain": [
       "(540, 960)"
      ]
     },
     "execution_count": 10,
     "metadata": {},
     "output_type": "execute_result"
    }
   ],
   "source": [
    "l_points.shape"
   ]
  },
  {
   "cell_type": "code",
   "execution_count": null,
   "metadata": {},
   "outputs": [],
   "source": []
  },
  {
   "cell_type": "code",
   "execution_count": null,
   "metadata": {},
   "outputs": [],
   "source": []
  },
  {
   "cell_type": "code",
   "execution_count": 25,
   "metadata": {},
   "outputs": [
    {
     "data": {
      "image/png": "[encoded data removed]",
      "text/plain": [
       "<Figure size 432x288 with 1 Axes>"
      ]
     },
     "metadata": {
      "needs_background": "light"
     },
     "output_type": "display_data"
    }
   ],
   "source": [
    "template = np.array(r_points+l_points,np.uint8) # add both left and right window pixels together\n",
    "zero_channel = np.zeros_like(template) # create a zero color channel\n",
    "template = np.array(cv2.merge((zero_channel,template,zero_channel)),np.uint8) # make window pixels green\n",
    "warpage = np.array(cv2.merge((warped,warped,warped)),np.uint8) # making the original road pixels 3 color channels\n",
    "result = cv2.addWeighted(warpage, 1, template, 0.5, 0.0) # overlay the original road image with window results\n",
    "\n",
    "#Visualize the results of the window fitting to lane lines\n",
    "plt.imshow(result, cmap='gray')\n",
    "plt.title('Window fitting results')\n",
    "plt.show()"
   ]
  },
  {
   "cell_type": "code",
   "execution_count": 12,
   "metadata": {},
   "outputs": [
    {
     "ename": "NameError",
     "evalue": "name 'yvals' is not defined",
     "output_type": "error",
     "traceback": [
      "\u001b[1;31m---------------------------------------------------------------------------\u001b[0m",
      "\u001b[1;31mNameError\u001b[0m                                 Traceback (most recent call last)",
      "\u001b[1;32m<ipython-input-12-f723ea1724ad>\u001b[0m in \u001b[0;36m<module>\u001b[1;34m\u001b[0m\n\u001b[1;32m----> 1\u001b[1;33m \u001b[0myvals\u001b[0m\u001b[1;33m\u001b[0m\u001b[1;33m\u001b[0m\u001b[0m\n\u001b[0m",
      "\u001b[1;31mNameError\u001b[0m: name 'yvals' is not defined"
     ]
    }
   ],
   "source": [
    "yvals"
   ]
  },
  {
   "cell_type": "code",
   "execution_count": null,
   "metadata": {},
   "outputs": [],
   "source": [
    "res_yvals"
   ]
  },
  {
   "cell_type": "code",
   "execution_count": null,
   "metadata": {},
   "outputs": [],
   "source": [
    "left_fit"
   ]
  },
  {
   "cell_type": "code",
   "execution_count": null,
   "metadata": {},
   "outputs": [],
   "source": [
    "leftx"
   ]
  },
  {
   "cell_type": "code",
   "execution_count": null,
   "metadata": {},
   "outputs": [],
   "source": [
    "np.polyfit(res_yvals, leftx, 3)"
   ]
  },
  {
   "cell_type": "code",
   "execution_count": null,
   "metadata": {},
   "outputs": [],
   "source": [
    "left_fitx"
   ]
  },
  {
   "cell_type": "code",
   "execution_count": null,
   "metadata": {},
   "outputs": [],
   "source": [
    "yvals = range(0,warped.shape[0])\n",
    "\n",
    "res_yvals = np.arange(warped.shape[0]-(window_height/2),0,-window_height)\n",
    "\n",
    "left_fit = np.polyfit(res_yvals, leftx, 2)\n",
    "left_fit"
   ]
  },
  {
   "cell_type": "code",
   "execution_count": null,
   "metadata": {},
   "outputs": [],
   "source": [
    "left_fit[0]"
   ]
  },
  {
   "cell_type": "code",
   "execution_count": null,
   "metadata": {},
   "outputs": [],
   "source": [
    "left_fitx = left_fit[0]*yvals*yvals + left_fit[1]*yvals + left_fit[2]\n",
    "left_fitx"
   ]
  },
  {
   "cell_type": "code",
   "execution_count": null,
   "metadata": {},
   "outputs": [],
   "source": [
    "left_fitx = np.array(left_fitx,np.int32)\n",
    "\n",
    "right_fit = np.polyfit(res_yvals, rightx, 2)\n",
    "right_fitx = right_fit[0]*yvals*yvals + right_fit[1]*yvals + right_fit[2]\n",
    "right_fitx = np.array(right_fitx,np.int32)\n",
    "\n",
    "left_lane = np.array(list(zip(np.concatenate((left_fitx-window_width/2, left_fitx[::-1]+window_width/2),axis=0),np.concatenate((yvals,yvals[::-1]),axis=0))),np.int32)\n",
    "right_lane = np.array(list(zip(np.concatenate((right_fitx-window_width/2, right_fitx[::-1]+window_width/2),axis=0),np.concatenate((yvals,yvals[::-1]),axis=0))),np.int32)\n",
    "middle_marker = np.array(list(zip(np.concatenate((right_fitx-window_width/2, right_fitx[::-1]+window_width/2),axis=0),np.concatenate((yvals,yvals[::-1]),axis=0))),np.int32)\n",
    "inner_lane = np.array(list(zip(np.concatenate((left_fitx+window_width/2, right_fitx[::-1]-window_width/2),axis=0),np.concatenate((yvals,yvals[::-1]),axis=0))),np.int32)\n"
   ]
  }
 ],
 "metadata": {
  "kernelspec": {
   "display_name": "AdvLane",
   "language": "python",
   "name": "advlane"
  },
  "language_info": {
   "codemirror_mode": {
    "name": "ipython",
    "version": 3
   },
   "file_extension": ".py",
   "mimetype": "text/x-python",
   "name": "python",
   "nbconvert_exporter": "python",
   "pygments_lexer": "ipython3",
   "version": "3.6.10"
  }
 },
 "nbformat": 4,
 "nbformat_minor": 4
}
